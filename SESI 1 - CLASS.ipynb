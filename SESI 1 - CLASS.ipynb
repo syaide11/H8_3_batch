{
 "cells": [
  {
   "cell_type": "markdown",
   "id": "a186b2d3",
   "metadata": {},
   "source": [
    "### notebook pertama saya pada kelas sesi pertama"
   ]
  },
  {
   "cell_type": "code",
   "execution_count": 1,
   "id": "8ca93c71",
   "metadata": {},
   "outputs": [
    {
     "name": "stdout",
     "output_type": "stream",
     "text": [
      "Hai, nama saya Syaima Radestya\n"
     ]
    }
   ],
   "source": [
    "print(\"Hai, nama saya Syaima Radestya\")"
   ]
  },
  {
   "cell_type": "markdown",
   "id": "bd7a15a5",
   "metadata": {},
   "source": [
    "# Tipe Data"
   ]
  },
  {
   "cell_type": "code",
   "execution_count": 2,
   "id": "4bd91224",
   "metadata": {},
   "outputs": [
    {
     "name": "stdout",
     "output_type": "stream",
     "text": [
      "1112\n"
     ]
    }
   ],
   "source": [
    "# tipe data tunggal\n",
    "print (1112)"
   ]
  },
  {
   "cell_type": "code",
   "execution_count": 3,
   "id": "dd0d4a0f",
   "metadata": {},
   "outputs": [
    {
     "data": {
      "text/plain": [
       "int"
      ]
     },
     "execution_count": 3,
     "metadata": {},
     "output_type": "execute_result"
    }
   ],
   "source": [
    "type(1112)"
   ]
  },
  {
   "cell_type": "code",
   "execution_count": 4,
   "id": "52b77f6f",
   "metadata": {},
   "outputs": [
    {
     "data": {
      "text/plain": [
       "float"
      ]
     },
     "execution_count": 4,
     "metadata": {},
     "output_type": "execute_result"
    }
   ],
   "source": [
    "type(11.2)"
   ]
  },
  {
   "cell_type": "code",
   "execution_count": 7,
   "id": "ac97f674",
   "metadata": {},
   "outputs": [
    {
     "data": {
      "text/plain": [
       "complex"
      ]
     },
     "execution_count": 7,
     "metadata": {},
     "output_type": "execute_result"
    }
   ],
   "source": [
    "type(3+2j)"
   ]
  },
  {
   "cell_type": "code",
   "execution_count": 9,
   "id": "bb295989",
   "metadata": {},
   "outputs": [
    {
     "data": {
      "text/plain": [
       "bool"
      ]
     },
     "execution_count": 9,
     "metadata": {},
     "output_type": "execute_result"
    }
   ],
   "source": [
    "type(False)"
   ]
  },
  {
   "cell_type": "code",
   "execution_count": 10,
   "id": "dd94bfd2",
   "metadata": {},
   "outputs": [
    {
     "data": {
      "text/plain": [
       "str"
      ]
     },
     "execution_count": 10,
     "metadata": {},
     "output_type": "execute_result"
    }
   ],
   "source": [
    "type(\"Syaima Radestya\")"
   ]
  },
  {
   "cell_type": "markdown",
   "id": "20521446",
   "metadata": {},
   "source": [
    "# Variabel"
   ]
  },
  {
   "cell_type": "code",
   "execution_count": 11,
   "id": "1f9d58d1",
   "metadata": {},
   "outputs": [
    {
     "name": "stdout",
     "output_type": "stream",
     "text": [
      "8.3\n"
     ]
    },
    {
     "data": {
      "text/plain": [
       "float"
      ]
     },
     "execution_count": 11,
     "metadata": {},
     "output_type": "execute_result"
    }
   ],
   "source": [
    "a = 8.3\n",
    "print(a)\n",
    "type(a)"
   ]
  },
  {
   "cell_type": "code",
   "execution_count": 12,
   "id": "936c3ed2",
   "metadata": {},
   "outputs": [],
   "source": [
    "angka_1, angka_2 = 7, 12.3"
   ]
  },
  {
   "cell_type": "code",
   "execution_count": 13,
   "id": "09f4088a",
   "metadata": {},
   "outputs": [
    {
     "name": "stdout",
     "output_type": "stream",
     "text": [
      "12.3\n"
     ]
    }
   ],
   "source": [
    "print (angka_2)"
   ]
  },
  {
   "cell_type": "markdown",
   "id": "a54d3e45",
   "metadata": {},
   "source": [
    "# Operasi"
   ]
  },
  {
   "cell_type": "code",
   "execution_count": 16,
   "id": "7b42faae",
   "metadata": {},
   "outputs": [
    {
     "data": {
      "text/plain": [
       "2"
      ]
     },
     "execution_count": 16,
     "metadata": {},
     "output_type": "execute_result"
    }
   ],
   "source": [
    "a = 9\n",
    "b = 4\n",
    "\n",
    "a // b"
   ]
  },
  {
   "cell_type": "code",
   "execution_count": 17,
   "id": "f045e6d7",
   "metadata": {},
   "outputs": [
    {
     "data": {
      "text/plain": [
       "1"
      ]
     },
     "execution_count": 17,
     "metadata": {},
     "output_type": "execute_result"
    }
   ],
   "source": [
    "a % b"
   ]
  },
  {
   "cell_type": "code",
   "execution_count": 18,
   "id": "27921fb9",
   "metadata": {},
   "outputs": [
    {
     "name": "stdout",
     "output_type": "stream",
     "text": [
      "13\n",
      "36\n"
     ]
    }
   ],
   "source": [
    "# aritmatika\n",
    "print(a + b)\n",
    "print(a * b)"
   ]
  },
  {
   "cell_type": "code",
   "execution_count": 22,
   "id": "659e5793",
   "metadata": {},
   "outputs": [
    {
     "name": "stdout",
     "output_type": "stream",
     "text": [
      "DataScience\n"
     ]
    }
   ],
   "source": [
    "# string\n",
    "nama_depan = \"Data\"\n",
    "nama_belakang = \"Science\"\n",
    "\n",
    "print(nama_depan + nama_belakang)"
   ]
  },
  {
   "cell_type": "code",
   "execution_count": 23,
   "id": "7711e3a1",
   "metadata": {},
   "outputs": [
    {
     "name": "stdout",
     "output_type": "stream",
     "text": [
      "ScienceScienceScience\n"
     ]
    }
   ],
   "source": [
    "print(nama_belakang * 3)"
   ]
  },
  {
   "cell_type": "code",
   "execution_count": 25,
   "id": "e7616696",
   "metadata": {},
   "outputs": [
    {
     "name": "stdout",
     "output_type": "stream",
     "text": [
      "False\n"
     ]
    }
   ],
   "source": [
    "# perbandingan\n",
    "a = 5\n",
    "b = 11\n",
    "\n",
    "print (a > b)"
   ]
  },
  {
   "cell_type": "code",
   "execution_count": 26,
   "id": "6e7893c2",
   "metadata": {},
   "outputs": [
    {
     "name": "stdout",
     "output_type": "stream",
     "text": [
      "True\n"
     ]
    }
   ],
   "source": [
    "# Logika\n",
    "print(False or True)"
   ]
  },
  {
   "cell_type": "code",
   "execution_count": 27,
   "id": "9a7f48be",
   "metadata": {},
   "outputs": [
    {
     "name": "stdout",
     "output_type": "stream",
     "text": [
      "Saya belajar di hacktiv\n",
      "SAYA BELAJAR DI HACKTIV\n",
      "saya belajar di hacktiv\n",
      "Saya Belajar Di Hacktiv\n"
     ]
    }
   ],
   "source": [
    "nama = \"Saya Belajar di Hacktiv\"\n",
    "print(nama.capitalize())\n",
    "print(nama.upper())\n",
    "print(nama.lower())\n",
    "print(nama.title())"
   ]
  },
  {
   "cell_type": "markdown",
   "id": "506b5d81",
   "metadata": {},
   "source": [
    "# Tipe Data Majemuk"
   ]
  },
  {
   "cell_type": "code",
   "execution_count": 28,
   "id": "3e3640ea",
   "metadata": {},
   "outputs": [
    {
     "name": "stdout",
     "output_type": "stream",
     "text": [
      "(53, 45.2, True, 'Syaima', (1, 2, 3))\n"
     ]
    },
    {
     "data": {
      "text/plain": [
       "tuple"
      ]
     },
     "execution_count": 28,
     "metadata": {},
     "output_type": "execute_result"
    }
   ],
   "source": [
    "# tuple dan list\n",
    "my_tuple = (53, 45.2, True, \"Syaima\", (1, 2, 3))\n",
    "print(my_tuple)\n",
    "type(my_tuple)"
   ]
  },
  {
   "cell_type": "code",
   "execution_count": 29,
   "id": "905461ef",
   "metadata": {},
   "outputs": [
    {
     "name": "stdout",
     "output_type": "stream",
     "text": [
      "[53, 45.2, True, 'Syaima', (1, 2, 3)]\n"
     ]
    },
    {
     "data": {
      "text/plain": [
       "list"
      ]
     },
     "execution_count": 29,
     "metadata": {},
     "output_type": "execute_result"
    }
   ],
   "source": [
    "my_list = [53, 45.2, True, \"Syaima\", (1, 2, 3)]\n",
    "print(my_list)\n",
    "type(my_list)"
   ]
  },
  {
   "cell_type": "code",
   "execution_count": 30,
   "id": "73bf0916",
   "metadata": {},
   "outputs": [
    {
     "name": "stdout",
     "output_type": "stream",
     "text": [
      "Syaima\n"
     ]
    }
   ],
   "source": [
    "print(my_tuple[3])"
   ]
  },
  {
   "cell_type": "code",
   "execution_count": 31,
   "id": "09d62a0d",
   "metadata": {},
   "outputs": [
    {
     "data": {
      "text/plain": [
       "True"
      ]
     },
     "execution_count": 31,
     "metadata": {},
     "output_type": "execute_result"
    }
   ],
   "source": [
    "\"Syaima\" in my_list"
   ]
  },
  {
   "cell_type": "code",
   "execution_count": 32,
   "id": "f4380505",
   "metadata": {},
   "outputs": [],
   "source": [
    "# pengubahan data\n",
    "my_list[3] = \"NgodingPython\""
   ]
  },
  {
   "cell_type": "code",
   "execution_count": 33,
   "id": "ead085a2",
   "metadata": {},
   "outputs": [
    {
     "data": {
      "text/plain": [
       "[53, 45.2, True, 'NgodingPython', (1, 2, 3)]"
      ]
     },
     "execution_count": 33,
     "metadata": {},
     "output_type": "execute_result"
    }
   ],
   "source": [
    "my_list"
   ]
  },
  {
   "cell_type": "code",
   "execution_count": 34,
   "id": "1f99ed70",
   "metadata": {},
   "outputs": [],
   "source": [
    "# append menambah data\n",
    "my_list.append(\"Belajar\")"
   ]
  },
  {
   "cell_type": "code",
   "execution_count": 35,
   "id": "69ed552d",
   "metadata": {},
   "outputs": [
    {
     "data": {
      "text/plain": [
       "[53, 45.2, True, 'NgodingPython', (1, 2, 3), 'Belajar']"
      ]
     },
     "execution_count": 35,
     "metadata": {},
     "output_type": "execute_result"
    }
   ],
   "source": [
    "my_list"
   ]
  },
  {
   "cell_type": "code",
   "execution_count": 38,
   "id": "41269739",
   "metadata": {},
   "outputs": [],
   "source": [
    "# menghapus data\n",
    "my_list.remove(53)"
   ]
  },
  {
   "cell_type": "code",
   "execution_count": 39,
   "id": "754addfd",
   "metadata": {},
   "outputs": [
    {
     "data": {
      "text/plain": [
       "[45.2, True, 'NgodingPython', (1, 2, 3), 'Belajar']"
      ]
     },
     "execution_count": 39,
     "metadata": {},
     "output_type": "execute_result"
    }
   ],
   "source": [
    "my_list"
   ]
  },
  {
   "cell_type": "code",
   "execution_count": 40,
   "id": "cc88a182",
   "metadata": {},
   "outputs": [
    {
     "data": {
      "text/plain": [
       "'Syaima Radestya'"
      ]
     },
     "execution_count": 40,
     "metadata": {},
     "output_type": "execute_result"
    }
   ],
   "source": [
    "# dictionary\n",
    "my_dict = {'nama':'Syaima Radestya', 'pekerjaan': 'Mahasiswa'}\n",
    "my_dict['nama']"
   ]
  },
  {
   "cell_type": "code",
   "execution_count": 41,
   "id": "0e8a6811",
   "metadata": {},
   "outputs": [],
   "source": [
    "my_dict['domisili'] = 'Jakarta Timur'"
   ]
  },
  {
   "cell_type": "code",
   "execution_count": 42,
   "id": "bcc99722",
   "metadata": {},
   "outputs": [
    {
     "data": {
      "text/plain": [
       "{'nama': 'Syaima Radestya',\n",
       " 'pekerjaan': 'Mahasiswa',\n",
       " 'domisili': 'Jakarta Timur'}"
      ]
     },
     "execution_count": 42,
     "metadata": {},
     "output_type": "execute_result"
    }
   ],
   "source": [
    "my_dict"
   ]
  },
  {
   "cell_type": "code",
   "execution_count": 45,
   "id": "ababd21d",
   "metadata": {},
   "outputs": [],
   "source": [
    "# set\n",
    "\n",
    "my_set1 = {1,1,1,1,1,2,2,3,3,3,3,3,4,4,4,4,5,5,5,5,7,7,7}\n",
    "my_set2 = {2,3,6,9,11,13}"
   ]
  },
  {
   "cell_type": "code",
   "execution_count": 44,
   "id": "afc75fb7",
   "metadata": {},
   "outputs": [
    {
     "data": {
      "text/plain": [
       "{1, 2, 3, 4, 5, 6, 7, 9, 11, 13}"
      ]
     },
     "execution_count": 44,
     "metadata": {},
     "output_type": "execute_result"
    }
   ],
   "source": [
    "my_set1.union(my_set2)"
   ]
  },
  {
   "cell_type": "code",
   "execution_count": 47,
   "id": "e229df72",
   "metadata": {},
   "outputs": [
    {
     "data": {
      "text/plain": [
       "{2, 3}"
      ]
     },
     "execution_count": 47,
     "metadata": {},
     "output_type": "execute_result"
    }
   ],
   "source": [
    "my_set1.intersection(my_set2)"
   ]
  },
  {
   "cell_type": "markdown",
   "id": "b448655e",
   "metadata": {},
   "source": [
    "### String Formatting"
   ]
  },
  {
   "cell_type": "code",
   "execution_count": 48,
   "id": "98e3372c",
   "metadata": {},
   "outputs": [],
   "source": [
    "nama = 'SyaimaRadestya'"
   ]
  },
  {
   "cell_type": "code",
   "execution_count": 49,
   "id": "b844ca33",
   "metadata": {},
   "outputs": [
    {
     "data": {
      "text/plain": [
       "'S'"
      ]
     },
     "execution_count": 49,
     "metadata": {},
     "output_type": "execute_result"
    }
   ],
   "source": [
    "nama[0]"
   ]
  },
  {
   "cell_type": "code",
   "execution_count": 52,
   "id": "c8d37772",
   "metadata": {},
   "outputs": [
    {
     "data": {
      "text/plain": [
       "'imaR'"
      ]
     },
     "execution_count": 52,
     "metadata": {},
     "output_type": "execute_result"
    }
   ],
   "source": [
    "nama[3:7]"
   ]
  },
  {
   "cell_type": "code",
   "execution_count": 53,
   "id": "2a7f60cf",
   "metadata": {},
   "outputs": [
    {
     "data": {
      "text/plain": [
       "False"
      ]
     },
     "execution_count": 53,
     "metadata": {},
     "output_type": "execute_result"
    }
   ],
   "source": [
    "'z' in nama"
   ]
  },
  {
   "cell_type": "code",
   "execution_count": 54,
   "id": "682deb2b",
   "metadata": {},
   "outputs": [
    {
     "name": "stdout",
     "output_type": "stream",
     "text": [
      "Nama saya Syaima\n"
     ]
    }
   ],
   "source": [
    "# f string\n",
    "\n",
    "nama = \"Syaima\"\n",
    "print(f\"Nama saya {nama}\")"
   ]
  },
  {
   "cell_type": "code",
   "execution_count": null,
   "id": "ea152deb",
   "metadata": {},
   "outputs": [],
   "source": []
  }
 ],
 "metadata": {
  "kernelspec": {
   "display_name": "Python 3 (ipykernel)",
   "language": "python",
   "name": "python3"
  },
  "language_info": {
   "codemirror_mode": {
    "name": "ipython",
    "version": 3
   },
   "file_extension": ".py",
   "mimetype": "text/x-python",
   "name": "python",
   "nbconvert_exporter": "python",
   "pygments_lexer": "ipython3",
   "version": "3.9.12"
  }
 },
 "nbformat": 4,
 "nbformat_minor": 5
}
