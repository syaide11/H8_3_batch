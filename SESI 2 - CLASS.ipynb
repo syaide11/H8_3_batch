{
 "cells": [
  {
   "cell_type": "markdown",
   "id": "9056365d",
   "metadata": {},
   "source": [
    "### SESI 2 PEMBELAJARAN "
   ]
  },
  {
   "cell_type": "code",
   "execution_count": 1,
   "id": "19c2fa99",
   "metadata": {},
   "outputs": [
    {
     "name": "stdout",
     "output_type": "stream",
     "text": [
      "Pembelajaran Syaima Radestya Sesi 2\n"
     ]
    }
   ],
   "source": [
    "print(\"Pembelajaran Syaima Radestya Sesi 2\")"
   ]
  },
  {
   "cell_type": "markdown",
   "id": "6eaaac18",
   "metadata": {},
   "source": [
    "# Conditional"
   ]
  },
  {
   "cell_type": "code",
   "execution_count": 4,
   "id": "efa5f8f9",
   "metadata": {},
   "outputs": [
    {
     "name": "stdout",
     "output_type": "stream",
     "text": [
      "55 lebih kecil dari 20\n"
     ]
    }
   ],
   "source": [
    "angka = 55\n",
    "print(f\"{angka} lebih kecil dari 20\")"
   ]
  },
  {
   "cell_type": "code",
   "execution_count": 10,
   "id": "5d579441",
   "metadata": {},
   "outputs": [
    {
     "name": "stdout",
     "output_type": "stream",
     "text": [
      "9 lebih kecil dari 10\n",
      "ini masih didalam if\n",
      "bagian ini tidak terpengaruh sintaks diatas\n"
     ]
    }
   ],
   "source": [
    "# dengan sintaks if\n",
    "angka = 9\n",
    "if angka < 10:\n",
    "    print(f\"{angka} lebih kecil dari 10\")\n",
    "    print(\"ini masih didalam if\")\n",
    "else:\n",
    "    print(f\"{angka} lebih besar dari 10\")\n",
    "    print(\"ini masih didalam else\")\n",
    "print(\"bagian ini tidak terpengaruh sintaks diatas\")"
   ]
  },
  {
   "cell_type": "code",
   "execution_count": 13,
   "id": "36639782",
   "metadata": {},
   "outputs": [
    {
     "name": "stdout",
     "output_type": "stream",
     "text": [
      "Angka lebih kecil dari 20\n",
      "Bilangan genap lebih kecil dari 20\n"
     ]
    }
   ],
   "source": [
    "angka = 10\n",
    "if angka < 20:\n",
    "    print(\"Angka lebih kecil dari 20\")\n",
    "\n",
    "    if angka % 2 == 0:\n",
    "        print(\"Bilangan genap lebih kecil dari 20\")\n",
    "\n",
    "else:\n",
    "    print(\"Angka lebih besar dari 20\")\n",
    "    if angka % 2 != 0:\n",
    "        print(\"Bilangan ganjil lebih besar dari 20\")"
   ]
  },
  {
   "cell_type": "code",
   "execution_count": 16,
   "id": "3e1bf999",
   "metadata": {},
   "outputs": [
    {
     "name": "stdout",
     "output_type": "stream",
     "text": [
      "10 sama dengan 10\n"
     ]
    }
   ],
   "source": [
    "# dengan sintaks if\n",
    "angka = 10\n",
    "if angka < 10:\n",
    "    print(f\"{angka} lebih kecil dari 10\")\n",
    "elif angka == 10:\n",
    "    print(f\"{angka} sama dengan 10\")\n",
    "else:\n",
    "    print(f\"{angka} lebih besar dari 10\")"
   ]
  },
  {
   "cell_type": "code",
   "execution_count": 17,
   "id": "9faa18ff",
   "metadata": {},
   "outputs": [
    {
     "name": "stdout",
     "output_type": "stream",
     "text": [
      "Ayo kita ke Pantai\n"
     ]
    }
   ],
   "source": [
    "hujan = False\n",
    "print(\"Ayo kita ke\",\"Perpustakaan\" if hujan else \"Pantai\")"
   ]
  },
  {
   "cell_type": "markdown",
   "id": "e043fb53",
   "metadata": {},
   "source": [
    "# Looping"
   ]
  },
  {
   "cell_type": "code",
   "execution_count": 18,
   "id": "a3fb22a4",
   "metadata": {},
   "outputs": [
    {
     "name": "stdout",
     "output_type": "stream",
     "text": [
      "halo dunia\n",
      "halo dunia\n",
      "halo dunia\n",
      "halo dunia\n",
      "halo dunia\n"
     ]
    }
   ],
   "source": [
    "print(\"halo dunia\")\n",
    "print(\"halo dunia\")\n",
    "print(\"halo dunia\")\n",
    "print(\"halo dunia\")\n",
    "print(\"halo dunia\")"
   ]
  },
  {
   "cell_type": "code",
   "execution_count": 19,
   "id": "9a5957bd",
   "metadata": {},
   "outputs": [
    {
     "name": "stdout",
     "output_type": "stream",
     "text": [
      "i ke 1 halo dunia\n",
      "i ke 2 halo dunia\n",
      "i ke 3 halo dunia\n",
      "i ke 4 halo dunia\n",
      "i ke 5 halo dunia\n"
     ]
    }
   ],
   "source": [
    "i = 0\n",
    "while i < 5:\n",
    "    i += 1\n",
    "    print(f\"i ke {i}\", \"halo dunia\")"
   ]
  },
  {
   "cell_type": "code",
   "execution_count": 25,
   "id": "98fe4471",
   "metadata": {},
   "outputs": [
    {
     "name": "stdout",
     "output_type": "stream",
     "text": [
      "i ke 1 halo dunia\n",
      "i ke 2 halo dunia\n"
     ]
    }
   ],
   "source": [
    "# break\n",
    "i = 0\n",
    "while i < 10:\n",
    "    i += 1\n",
    "    if i == 3:\n",
    "        break\n",
    "    print(f\"i ke {i}\", \"halo dunia\")"
   ]
  },
  {
   "cell_type": "code",
   "execution_count": 24,
   "id": "2e2eeba4",
   "metadata": {},
   "outputs": [
    {
     "name": "stdout",
     "output_type": "stream",
     "text": [
      "i ke 2 halo dunia\n",
      "i ke 3 halo dunia\n",
      "i ke 4 halo dunia\n",
      "i ke 5 halo dunia\n",
      "i ke 6 halo dunia\n",
      "i ke 7 halo dunia\n",
      "i ke 8 halo dunia\n",
      "i ke 9 halo dunia\n",
      "i ke 10 halo dunia\n"
     ]
    }
   ],
   "source": [
    "# continue\n",
    "i = 0\n",
    "while i < 10:\n",
    "    i += 1\n",
    "    if i == 1:\n",
    "        continue\n",
    "    print(f\"i ke {i}\", \"halo dunia\")"
   ]
  },
  {
   "cell_type": "code",
   "execution_count": 26,
   "id": "b0794e8b",
   "metadata": {},
   "outputs": [
    {
     "name": "stdout",
     "output_type": "stream",
     "text": [
      "2 x 1 = 2\n",
      "2 x 2 = 4\n",
      "2 x 3 = 6\n",
      "2 x 4 = 8\n",
      "2 x 5 = 10\n",
      "2 x 6 = 12\n",
      "2 x 7 = 14\n",
      "2 x 8 = 16\n",
      "2 x 9 = 18\n",
      "2 x 10 = 20\n"
     ]
    }
   ],
   "source": [
    "i = 1\n",
    "while i <= 10:\n",
    "    print(f\"2 x {i} = {2*i}\")\n",
    "    i = i + 1\n"
   ]
  },
  {
   "cell_type": "code",
   "execution_count": 27,
   "id": "1202320f",
   "metadata": {},
   "outputs": [
    {
     "name": "stdout",
     "output_type": "stream",
     "text": [
      "1 x 1 = 1\n",
      "1 x 2 = 2\n",
      "1 x 3 = 3\n",
      "1 x 4 = 4\n",
      "1 x 5 = 5\n",
      "1 x 6 = 6\n",
      "1 x 7 = 7\n",
      "1 x 8 = 8\n",
      "1 x 9 = 9\n",
      "1 x 10 = 10\n",
      "==================================================\n",
      "2 x 1 = 2\n",
      "2 x 2 = 4\n",
      "2 x 3 = 6\n",
      "2 x 4 = 8\n",
      "2 x 5 = 10\n",
      "2 x 6 = 12\n",
      "2 x 7 = 14\n",
      "2 x 8 = 16\n",
      "2 x 9 = 18\n",
      "2 x 10 = 20\n",
      "==================================================\n",
      "3 x 1 = 3\n",
      "3 x 2 = 6\n",
      "3 x 3 = 9\n",
      "3 x 4 = 12\n",
      "3 x 5 = 15\n",
      "3 x 6 = 18\n",
      "3 x 7 = 21\n",
      "3 x 8 = 24\n",
      "3 x 9 = 27\n",
      "3 x 10 = 30\n",
      "==================================================\n",
      "4 x 1 = 4\n",
      "4 x 2 = 8\n",
      "4 x 3 = 12\n",
      "4 x 4 = 16\n",
      "4 x 5 = 20\n",
      "4 x 6 = 24\n",
      "4 x 7 = 28\n",
      "4 x 8 = 32\n",
      "4 x 9 = 36\n",
      "4 x 10 = 40\n",
      "==================================================\n",
      "5 x 1 = 5\n",
      "5 x 2 = 10\n",
      "5 x 3 = 15\n",
      "5 x 4 = 20\n",
      "5 x 5 = 25\n",
      "5 x 6 = 30\n",
      "5 x 7 = 35\n",
      "5 x 8 = 40\n",
      "5 x 9 = 45\n",
      "5 x 10 = 50\n",
      "==================================================\n",
      "6 x 1 = 6\n",
      "6 x 2 = 12\n",
      "6 x 3 = 18\n",
      "6 x 4 = 24\n",
      "6 x 5 = 30\n",
      "6 x 6 = 36\n",
      "6 x 7 = 42\n",
      "6 x 8 = 48\n",
      "6 x 9 = 54\n",
      "6 x 10 = 60\n",
      "==================================================\n",
      "7 x 1 = 7\n",
      "7 x 2 = 14\n",
      "7 x 3 = 21\n",
      "7 x 4 = 28\n",
      "7 x 5 = 35\n",
      "7 x 6 = 42\n",
      "7 x 7 = 49\n",
      "7 x 8 = 56\n",
      "7 x 9 = 63\n",
      "7 x 10 = 70\n",
      "==================================================\n",
      "8 x 1 = 8\n",
      "8 x 2 = 16\n",
      "8 x 3 = 24\n",
      "8 x 4 = 32\n",
      "8 x 5 = 40\n",
      "8 x 6 = 48\n",
      "8 x 7 = 56\n",
      "8 x 8 = 64\n",
      "8 x 9 = 72\n",
      "8 x 10 = 80\n",
      "==================================================\n",
      "9 x 1 = 9\n",
      "9 x 2 = 18\n",
      "9 x 3 = 27\n",
      "9 x 4 = 36\n",
      "9 x 5 = 45\n",
      "9 x 6 = 54\n",
      "9 x 7 = 63\n",
      "9 x 8 = 72\n",
      "9 x 9 = 81\n",
      "9 x 10 = 90\n",
      "==================================================\n",
      "10 x 1 = 10\n",
      "10 x 2 = 20\n",
      "10 x 3 = 30\n",
      "10 x 4 = 40\n",
      "10 x 5 = 50\n",
      "10 x 6 = 60\n",
      "10 x 7 = 70\n",
      "10 x 8 = 80\n",
      "10 x 9 = 90\n",
      "10 x 10 = 100\n",
      "==================================================\n"
     ]
    }
   ],
   "source": [
    "i = 1\n",
    "j = 1\n",
    "while j <= 10:\n",
    "    while i <= 10:\n",
    "        print(f\"{j} x {i} = {j*i}\")\n",
    "        i += 1\n",
    "    i = 1\n",
    "    j += 1\n",
    "    print(\"=\"*50)"
   ]
  },
  {
   "cell_type": "code",
   "execution_count": 28,
   "id": "bb0f3bec",
   "metadata": {},
   "outputs": [
    {
     "name": "stdout",
     "output_type": "stream",
     "text": [
      "1 x 1 = 1\n",
      "1 x 2 = 2\n",
      "1 x 3 = 3\n",
      "1 x 4 = 4\n",
      "1 x 5 = 5\n",
      "1 x 6 = 6\n",
      "1 x 7 = 7\n",
      "1 x 8 = 8\n",
      "1 x 9 = 9\n",
      "1 x 10 = 10\n",
      "==================================================\n",
      "2 x 1 = 2\n",
      "2 x 2 = 4\n",
      "2 x 3 = 6\n",
      "2 x 4 = 8\n",
      "2 x 5 = 10\n",
      "2 x 6 = 12\n",
      "2 x 7 = 14\n",
      "2 x 8 = 16\n",
      "2 x 9 = 18\n",
      "2 x 10 = 20\n",
      "==================================================\n",
      "3 x 1 = 3\n",
      "3 x 2 = 6\n",
      "3 x 3 = 9\n",
      "3 x 4 = 12\n",
      "3 x 5 = 15\n",
      "3 x 6 = 18\n",
      "3 x 7 = 21\n",
      "3 x 8 = 24\n",
      "3 x 9 = 27\n",
      "3 x 10 = 30\n",
      "==================================================\n",
      "4 x 1 = 4\n",
      "4 x 2 = 8\n",
      "4 x 3 = 12\n",
      "4 x 4 = 16\n",
      "4 x 5 = 20\n",
      "4 x 6 = 24\n",
      "4 x 7 = 28\n",
      "4 x 8 = 32\n",
      "4 x 9 = 36\n",
      "4 x 10 = 40\n",
      "==================================================\n",
      "5 x 1 = 5\n",
      "5 x 2 = 10\n",
      "5 x 3 = 15\n",
      "5 x 4 = 20\n",
      "5 x 5 = 25\n",
      "5 x 6 = 30\n",
      "5 x 7 = 35\n",
      "5 x 8 = 40\n",
      "5 x 9 = 45\n",
      "5 x 10 = 50\n",
      "==================================================\n",
      "6 x 1 = 6\n",
      "6 x 2 = 12\n",
      "6 x 3 = 18\n",
      "6 x 4 = 24\n",
      "6 x 5 = 30\n",
      "6 x 6 = 36\n",
      "6 x 7 = 42\n",
      "6 x 8 = 48\n",
      "6 x 9 = 54\n",
      "6 x 10 = 60\n",
      "==================================================\n",
      "7 x 1 = 7\n",
      "7 x 2 = 14\n",
      "7 x 3 = 21\n",
      "7 x 4 = 28\n",
      "7 x 5 = 35\n",
      "7 x 6 = 42\n",
      "7 x 7 = 49\n",
      "7 x 8 = 56\n",
      "7 x 9 = 63\n",
      "7 x 10 = 70\n",
      "==================================================\n",
      "8 x 1 = 8\n",
      "8 x 2 = 16\n",
      "8 x 3 = 24\n",
      "8 x 4 = 32\n",
      "8 x 5 = 40\n",
      "8 x 6 = 48\n",
      "8 x 7 = 56\n",
      "8 x 8 = 64\n",
      "8 x 9 = 72\n",
      "8 x 10 = 80\n",
      "==================================================\n",
      "9 x 1 = 9\n",
      "9 x 2 = 18\n",
      "9 x 3 = 27\n",
      "9 x 4 = 36\n",
      "9 x 5 = 45\n",
      "9 x 6 = 54\n",
      "9 x 7 = 63\n",
      "9 x 8 = 72\n",
      "9 x 9 = 81\n",
      "9 x 10 = 90\n",
      "==================================================\n",
      "10 x 1 = 10\n",
      "10 x 2 = 20\n",
      "10 x 3 = 30\n",
      "10 x 4 = 40\n",
      "10 x 5 = 50\n",
      "10 x 6 = 60\n",
      "10 x 7 = 70\n",
      "10 x 8 = 80\n",
      "10 x 9 = 90\n",
      "10 x 10 = 100\n",
      "==================================================\n"
     ]
    }
   ],
   "source": [
    "for j in range(1, 11):\n",
    "    for i in range(1, 11):\n",
    "        print(f\"{j} x {i} = {j*i}\")\n",
    "    print(\"=\"*50)"
   ]
  },
  {
   "cell_type": "code",
   "execution_count": 32,
   "id": "d54f25d3",
   "metadata": {},
   "outputs": [
    {
     "name": "stdout",
     "output_type": "stream",
     "text": [
      "Saya ingin makan buah Jeruk\n",
      "Saya ingin makan buah Nanas\n",
      "Saya ingin makan buah Semangka\n",
      "Saya ingin makan buah Kurma\n"
     ]
    }
   ],
   "source": [
    "buahbuahan = [\"Jeruk\", \"Nanas\", \"Semangka\", \"Kurma\"]\n",
    "for buah in buahbuahan:\n",
    "    print(f\"Saya ingin makan buah {buah}\")"
   ]
  },
  {
   "cell_type": "code",
   "execution_count": 36,
   "id": "36c3ed37",
   "metadata": {},
   "outputs": [
    {
     "name": "stdout",
     "output_type": "stream",
     "text": [
      "Saya ingin makan buah Jeruk\n",
      "Saya ingin makan buah Nanas\n",
      "Saya ingin makan buah Semangka\n",
      "Saya ingin makan buah Kurma\n"
     ]
    }
   ],
   "source": [
    "for idx in range(len(buahbuahan)):\n",
    "    print(f\"Saya ingin makan buah {buahbuahan[idx]}\")"
   ]
  },
  {
   "cell_type": "code",
   "execution_count": 37,
   "id": "3851e3b7",
   "metadata": {},
   "outputs": [
    {
     "name": "stdout",
     "output_type": "stream",
     "text": [
      "0\n",
      "1\n",
      "3\n",
      "4\n",
      "5\n",
      "6\n",
      "7\n",
      "8\n"
     ]
    }
   ],
   "source": [
    "for i in range(9):\n",
    "    if i == 2:\n",
    "        continue\n",
    "    print(i)"
   ]
  }
 ],
 "metadata": {
  "kernelspec": {
   "display_name": "Python 3 (ipykernel)",
   "language": "python",
   "name": "python3"
  },
  "language_info": {
   "codemirror_mode": {
    "name": "ipython",
    "version": 3
   },
   "file_extension": ".py",
   "mimetype": "text/x-python",
   "name": "python",
   "nbconvert_exporter": "python",
   "pygments_lexer": "ipython3",
   "version": "3.9.12"
  }
 },
 "nbformat": 4,
 "nbformat_minor": 5
}
