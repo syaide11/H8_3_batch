{
 "cells": [
  {
   "cell_type": "markdown",
   "id": "abcd3eae",
   "metadata": {},
   "source": [
    "# SESI 3"
   ]
  },
  {
   "cell_type": "code",
   "execution_count": 1,
   "id": "f8b031ee",
   "metadata": {},
   "outputs": [
    {
     "name": "stdout",
     "output_type": "stream",
     "text": [
      "Pembelajaran Syaima Radestya Sesi 3\n"
     ]
    }
   ],
   "source": [
    "print(\"Pembelajaran Syaima Radestya Sesi 3\")"
   ]
  },
  {
   "cell_type": "markdown",
   "id": "387cd5f1",
   "metadata": {},
   "source": [
    "# Fungsi Pada Python"
   ]
  },
  {
   "cell_type": "code",
   "execution_count": 4,
   "id": "aa546b2f",
   "metadata": {},
   "outputs": [],
   "source": [
    "# fungsi sederhana\n",
    "def sapa():\n",
    "    \"Fungsi untuk print string yang ditulis dibawah ini\"\n",
    "    print(\"Halo nama saya Syaima\")\n",
    "    print(\"dari peserta Hacktiv8\")"
   ]
  },
  {
   "cell_type": "code",
   "execution_count": 5,
   "id": "63c29672",
   "metadata": {},
   "outputs": [
    {
     "name": "stdout",
     "output_type": "stream",
     "text": [
      "Halo nama saya Syaima\n",
      "dari peserta Hacktiv8\n"
     ]
    }
   ],
   "source": [
    "# eksekusi fungsi\n",
    "sapa()"
   ]
  },
  {
   "cell_type": "code",
   "execution_count": 16,
   "id": "719564d9",
   "metadata": {},
   "outputs": [],
   "source": [
    "# fungsi dengan 1 argumen\n",
    "def sapa_nama(nama):\n",
    "    \"Fungsi untuk print string yang ditulis dibawah ini\"\n",
    "    print(f\"Hallo, salam kenal {nama}\")\n",
    "    print(f\"{nama} dari program Kampus Merdeka, bukan ?\")"
   ]
  },
  {
   "cell_type": "code",
   "execution_count": 17,
   "id": "82966a4c",
   "metadata": {},
   "outputs": [
    {
     "name": "stdout",
     "output_type": "stream",
     "text": [
      "Hallo, salam kenal Syaima Radestya\n",
      "Syaima Radestya dari program Kampus Merdeka, bukan ?\n"
     ]
    }
   ],
   "source": [
    "sapa_nama(\"Syaima Radestya\")"
   ]
  },
  {
   "cell_type": "code",
   "execution_count": 18,
   "id": "5d5e992a",
   "metadata": {},
   "outputs": [],
   "source": [
    "# fungsi lebih dari 1 parameter\n",
    "def penjumlahan(angka_1, angka_2):\n",
    "    \"Fungsi ini akan menjumlahkan 2 angka yang dimasukkan kedalam fungsi\"\n",
    "    print(f\"Hasil dari {angka_1} + {angka_2} adalah {angka_1 + angka_2}\")"
   ]
  },
  {
   "cell_type": "code",
   "execution_count": 19,
   "id": "a755a326",
   "metadata": {},
   "outputs": [
    {
     "name": "stdout",
     "output_type": "stream",
     "text": [
      "Hasil dari 7 + 1 adalah 8\n"
     ]
    }
   ],
   "source": [
    "penjumlahan(7,1)"
   ]
  },
  {
   "cell_type": "code",
   "execution_count": 20,
   "id": "110d92a1",
   "metadata": {},
   "outputs": [],
   "source": [
    "# fungsi yg mengembalikan nilai ?\n",
    "def penjumlahan_2(angka_1, angka_2):\n",
    "    \"Fungsi ini akan menjumlahkan 2 angka yang dimasukkan kedalam fungsi\"\n",
    "    return angka_1 + angka_2"
   ]
  },
  {
   "cell_type": "code",
   "execution_count": 22,
   "id": "196de5b4",
   "metadata": {},
   "outputs": [],
   "source": [
    "hasil = penjumlahan_2(10,5)"
   ]
  },
  {
   "cell_type": "code",
   "execution_count": 23,
   "id": "dc0fa118",
   "metadata": {},
   "outputs": [
    {
     "data": {
      "text/plain": [
       "30"
      ]
     },
     "execution_count": 23,
     "metadata": {},
     "output_type": "execute_result"
    }
   ],
   "source": [
    "hasil*2"
   ]
  },
  {
   "cell_type": "markdown",
   "id": "7b301ff1",
   "metadata": {},
   "source": [
    "# Pass by Reference vs Value"
   ]
  },
  {
   "cell_type": "code",
   "execution_count": 24,
   "id": "31eee7f1",
   "metadata": {},
   "outputs": [
    {
     "name": "stdout",
     "output_type": "stream",
     "text": [
      "9\n",
      "9\n"
     ]
    }
   ],
   "source": [
    "a = 9\n",
    "b = a\n",
    "\n",
    "print(a)\n",
    "print(b)"
   ]
  },
  {
   "cell_type": "code",
   "execution_count": 25,
   "id": "05a16122",
   "metadata": {},
   "outputs": [
    {
     "data": {
      "text/plain": [
       "10"
      ]
     },
     "execution_count": 25,
     "metadata": {},
     "output_type": "execute_result"
    }
   ],
   "source": [
    "a = a+1\n",
    "a"
   ]
  },
  {
   "cell_type": "code",
   "execution_count": 26,
   "id": "fdf30964",
   "metadata": {},
   "outputs": [],
   "source": [
    "a = [9,10,11]\n",
    "b = a"
   ]
  },
  {
   "cell_type": "code",
   "execution_count": 27,
   "id": "f006c214",
   "metadata": {},
   "outputs": [
    {
     "data": {
      "text/plain": [
       "[9, 10, 11]"
      ]
     },
     "execution_count": 27,
     "metadata": {},
     "output_type": "execute_result"
    }
   ],
   "source": [
    "a"
   ]
  },
  {
   "cell_type": "code",
   "execution_count": 30,
   "id": "0cdbf1e6",
   "metadata": {},
   "outputs": [
    {
     "data": {
      "text/plain": [
       "[8, 40, 11]"
      ]
     },
     "execution_count": 30,
     "metadata": {},
     "output_type": "execute_result"
    }
   ],
   "source": [
    "a[1] = 40\n",
    "a"
   ]
  },
  {
   "cell_type": "code",
   "execution_count": 31,
   "id": "7b7c5078",
   "metadata": {},
   "outputs": [
    {
     "data": {
      "text/plain": [
       "[8, 40, 11]"
      ]
     },
     "execution_count": 31,
     "metadata": {},
     "output_type": "execute_result"
    }
   ],
   "source": [
    "b"
   ]
  },
  {
   "cell_type": "code",
   "execution_count": 34,
   "id": "5cf09500",
   "metadata": {},
   "outputs": [],
   "source": [
    "# required argument & positional argument\n",
    "def biodata(nama, usia):\n",
    "    \"menampilkan biodata dari input yang dimasukkan\"\n",
    "    print(f\"Halo, nama saya {nama} dan usia saya sekarang adalah {usia} tahun\")"
   ]
  },
  {
   "cell_type": "code",
   "execution_count": 35,
   "id": "b32f89a4",
   "metadata": {},
   "outputs": [
    {
     "name": "stdout",
     "output_type": "stream",
     "text": [
      "Halo, nama saya Syaima dan usia saya sekarang adalah 20 tahun\n"
     ]
    }
   ],
   "source": [
    "# panggil fungsi dengan required argument\n",
    "# posisi harus benar\n",
    "biodata(\"Syaima\", 20)"
   ]
  },
  {
   "cell_type": "code",
   "execution_count": 37,
   "id": "ef8d2cae",
   "metadata": {},
   "outputs": [
    {
     "name": "stdout",
     "output_type": "stream",
     "text": [
      "Halo, nama saya Syaima dan usia saya sekarang adalah 20 tahun\n"
     ]
    }
   ],
   "source": [
    "# keyword argument\n",
    "biodata(usia=20, nama=\"Syaima\")"
   ]
  },
  {
   "cell_type": "code",
   "execution_count": 40,
   "id": "8bedaf77",
   "metadata": {},
   "outputs": [],
   "source": [
    "# default argument\n",
    "def biodata(nama, usia, pekerjaan=\"Mahasiswa\"):\n",
    "    \"menampilkan biodata dari input yang dimasukkan\"\n",
    "    print(f\"Halo, nama saya {nama} dan usia saya {usia} tahun\")\n",
    "    print(f\"Pekerjaan saya saat ini adalah {pekerjaan}\")"
   ]
  },
  {
   "cell_type": "code",
   "execution_count": 41,
   "id": "2f955709",
   "metadata": {},
   "outputs": [
    {
     "name": "stdout",
     "output_type": "stream",
     "text": [
      "Halo, nama saya syaima dan usia saya 20 tahun\n",
      "Pekerjaan saya saat ini adalah Mahasiswa\n"
     ]
    }
   ],
   "source": [
    "biodata(\"syaima\", 20)"
   ]
  },
  {
   "cell_type": "code",
   "execution_count": 42,
   "id": "290c0bf5",
   "metadata": {},
   "outputs": [],
   "source": [
    "# variable length function\n",
    "def penjumlahan(b, c, d):\n",
    "    res = b + c + d\n",
    "    return res"
   ]
  },
  {
   "cell_type": "code",
   "execution_count": 43,
   "id": "cb21f30a",
   "metadata": {},
   "outputs": [
    {
     "data": {
      "text/plain": [
       "10"
      ]
     },
     "execution_count": 43,
     "metadata": {},
     "output_type": "execute_result"
    }
   ],
   "source": [
    "penjumlahan(1,5,4)"
   ]
  },
  {
   "cell_type": "code",
   "execution_count": 44,
   "id": "f0f6ea29",
   "metadata": {},
   "outputs": [],
   "source": [
    "# *args params in function\n",
    "def penjumlahan(*angka):\n",
    "    hasil = 0\n",
    "    for item in angka:\n",
    "        hasil += item\n",
    "    return hasil"
   ]
  },
  {
   "cell_type": "code",
   "execution_count": 46,
   "id": "3a706cde",
   "metadata": {},
   "outputs": [
    {
     "data": {
      "text/plain": [
       "13"
      ]
     },
     "execution_count": 46,
     "metadata": {},
     "output_type": "execute_result"
    }
   ],
   "source": [
    "penjumlahan(1,2,10)"
   ]
  },
  {
   "cell_type": "code",
   "execution_count": 52,
   "id": "2208f59f",
   "metadata": {},
   "outputs": [],
   "source": [
    "# **kwargs params in function\n",
    "def biodata(**data):\n",
    "    print(\"Biodata Peserta Hacktiv8\")\n",
    "    for k, v in data.items():\n",
    "        print(f\"{k}\\t: {v}\")"
   ]
  },
  {
   "cell_type": "code",
   "execution_count": 53,
   "id": "60a00da1",
   "metadata": {},
   "outputs": [
    {
     "name": "stdout",
     "output_type": "stream",
     "text": [
      "Biodata Peserta Hacktiv8\n",
      "Nama\t: Syaima Radestya\n",
      "Usia\t: 20\n",
      "Batch\t: 10\n"
     ]
    }
   ],
   "source": [
    "biodata(Nama=\"Syaima Radestya\", Usia=20, Batch=10)"
   ]
  },
  {
   "cell_type": "markdown",
   "id": "be62d277",
   "metadata": {},
   "source": [
    "# Global & Local Variable"
   ]
  },
  {
   "cell_type": "code",
   "execution_count": 54,
   "id": "e26724c0",
   "metadata": {},
   "outputs": [],
   "source": [
    "my_var = 'Hacktiv8'\n",
    "\n",
    "def fungsi_1():\n",
    "    print(f\"Jangan lupa subscribe channel {my_var}\")\n",
    "\n",
    "def fungsi_2():\n",
    "    print(f\"Memanggil var {my_var} dari fungsi 2\")"
   ]
  },
  {
   "cell_type": "code",
   "execution_count": 56,
   "id": "85eadaae",
   "metadata": {},
   "outputs": [
    {
     "name": "stdout",
     "output_type": "stream",
     "text": [
      "Jangan lupa subscribe channel Hacktiv8\n"
     ]
    }
   ],
   "source": [
    "fungsi_1()"
   ]
  },
  {
   "cell_type": "code",
   "execution_count": 57,
   "id": "717ba136",
   "metadata": {},
   "outputs": [],
   "source": [
    "# local variable\n",
    "def fungsi_3():\n",
    "    nama = \"Syaima Radestya\"\n",
    "    asal = \"Jakarta Timur\"\n",
    "    print(f\"nama saya {nama} berasal dari {asal}\")\n",
    "    print(\"String diatas diprint didalam fungsi\")"
   ]
  },
  {
   "cell_type": "code",
   "execution_count": 59,
   "id": "8c7484ee",
   "metadata": {},
   "outputs": [
    {
     "name": "stdout",
     "output_type": "stream",
     "text": [
      "nama saya Syaima Radestya berasal dari Jakarta Timur\n",
      "String diatas diprint didalam fungsi\n"
     ]
    }
   ],
   "source": [
    "fungsi_3()"
   ]
  },
  {
   "cell_type": "markdown",
   "id": "e3148c72",
   "metadata": {},
   "source": [
    "# Catching Error"
   ]
  },
  {
   "cell_type": "code",
   "execution_count": 82,
   "id": "b29f0022",
   "metadata": {},
   "outputs": [
    {
     "ename": "NameError",
     "evalue": "name 'maaf' is not defined",
     "output_type": "error",
     "traceback": [
      "\u001b[1;31m---------------------------------------------------------------------------\u001b[0m",
      "\u001b[1;31mNameError\u001b[0m                                 Traceback (most recent call last)",
      "Input \u001b[1;32mIn [82]\u001b[0m, in \u001b[0;36m<cell line: 1>\u001b[1;34m()\u001b[0m\n\u001b[1;32m----> 1\u001b[0m \u001b[38;5;28mprint\u001b[39m(\u001b[43mmaaf\u001b[49m)\n",
      "\u001b[1;31mNameError\u001b[0m: name 'maaf' is not defined"
     ]
    }
   ],
   "source": [
    "print(maaf)"
   ]
  },
  {
   "cell_type": "code",
   "execution_count": 83,
   "id": "2691894e",
   "metadata": {},
   "outputs": [
    {
     "name": "stdout",
     "output_type": "stream",
     "text": [
      "2\n"
     ]
    }
   ],
   "source": [
    "print(1+1)"
   ]
  },
  {
   "cell_type": "code",
   "execution_count": 74,
   "id": "4a658724",
   "metadata": {},
   "outputs": [
    {
     "name": "stdout",
     "output_type": "stream",
     "text": [
      "Halo apa kabar\n",
      "name 'maaf' is not defined\n",
      "2\n"
     ]
    }
   ],
   "source": [
    "try:\n",
    "    print(\"Halo apa kabar\")\n",
    "    print(maaf)\n",
    "except Exception as e:\n",
    "    print(str(e))\n",
    "print(1+1)"
   ]
  },
  {
   "cell_type": "code",
   "execution_count": 75,
   "id": "226d726d",
   "metadata": {},
   "outputs": [],
   "source": [
    "# fungsi rekursif\n",
    "def faktorial(n):\n",
    "    if n < 0:\n",
    "        print(\"Error, tidak bisa melakukan faktorial untuk angka negatif\")\n",
    "    elif n == 0 or n == 1:\n",
    "        return 1\n",
    "    else:\n",
    "        return n * faktorial(n-1)"
   ]
  },
  {
   "cell_type": "code",
   "execution_count": 76,
   "id": "7a6b4ff2",
   "metadata": {},
   "outputs": [
    {
     "data": {
      "text/plain": [
       "6"
      ]
     },
     "execution_count": 76,
     "metadata": {},
     "output_type": "execute_result"
    }
   ],
   "source": [
    "faktorial(3)"
   ]
  },
  {
   "cell_type": "code",
   "execution_count": 79,
   "id": "f3b2842d",
   "metadata": {},
   "outputs": [
    {
     "data": {
      "text/plain": [
       "5040"
      ]
     },
     "execution_count": 79,
     "metadata": {},
     "output_type": "execute_result"
    }
   ],
   "source": [
    "faktorial(7)"
   ]
  },
  {
   "cell_type": "code",
   "execution_count": 81,
   "id": "31483e1c",
   "metadata": {},
   "outputs": [
    {
     "name": "stdout",
     "output_type": "stream",
     "text": [
      "Error, tidak bisa melakukan faktorial untuk angka negatif\n"
     ]
    }
   ],
   "source": [
    "faktorial(-2)"
   ]
  },
  {
   "cell_type": "code",
   "execution_count": null,
   "id": "b17b3bcd",
   "metadata": {},
   "outputs": [],
   "source": []
  }
 ],
 "metadata": {
  "kernelspec": {
   "display_name": "Python 3 (ipykernel)",
   "language": "python",
   "name": "python3"
  },
  "language_info": {
   "codemirror_mode": {
    "name": "ipython",
    "version": 3
   },
   "file_extension": ".py",
   "mimetype": "text/x-python",
   "name": "python",
   "nbconvert_exporter": "python",
   "pygments_lexer": "ipython3",
   "version": "3.9.12"
  }
 },
 "nbformat": 4,
 "nbformat_minor": 5
}
