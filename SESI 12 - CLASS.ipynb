{
 "cells": [
  {
   "cell_type": "markdown",
   "metadata": {},
   "source": [
    "# SESI 12 - Classification 1\n",
    "Nama : Syaima Radestya <br>\n",
    "Kode Peserta : PYTN-KS10-011 <br>\n",
    "Program : Introduction to Python for Data Science"
   ]
  },
  {
   "cell_type": "markdown",
   "metadata": {},
   "source": [
    "# Classification\n",
    "***\n",
    "Classification adalah area yang sangat penting dalam supervised machine learning yang mencoba memprediksi kelas atau kategori mana dari suatu entitas, berdasarkan fitur-fiturnya. Sifat dependen variables membedakan masalah regression dan classification. Masalah regression memiliki keluaran yang berkelanjutan dan biasanya tidak terbatas. Contohnya adalah saat kita memperkirakan gaji sebagai fungsi dari pengalaman dan tingkat pendidikan. Di sisi lain, masalah classification memiliki keluaran diskrit dan terbatas yang disebut kelas atau kategori. Misalnya memprediksi apakah seorang karyawan akan dipromosikan atau tidak (benar atau salah) adalah masalah klasifikasi. <br> <br>\n",
    "\n",
    "Ada 2 jenis masalah klasifikasi:\n",
    "- Binary / binomial classification: exactly 2 classes to choose between (usually 0 and 1, true or false, positive or negative)\n",
    "- Multiclass or multinomial classification: three or more classes of the outputs to choose from\n",
    "\n",
    "## When Do You Need Classification? \n",
    "Kita dapat menerapkan klasifikasi dibanyak bidang sains dan teknologi. Misalnya, text classification algorithms digunakan untuk memisahkan email yang spam dan bukan, klasifikasi biologis, image recognition, dan masih banyak lagi. <br>\n",
    "\n",
    "## Logistic Regression Overview\n",
    "Linear regression menggunakan pengukuran statistik seperti R2 dan p-value untuk memahami kinerja model dan variable yang melatih model.\n",
    "- R2 used to indicate if there is a correlation between the dependent var and a particular independent var.\n",
    "- P-value is used to determine if R2 is statistically significance\n",
    "- The cost function of linear regression is Mean Squared Error \n",
    "\n",
    "Cara kerja Logistic Regression yaitu memprediksi probabilitas sampel kita termasuk dalam satu klasifikasi versus klasifikasi lainnya. Nilai keluaran dalam logistic regression adalah klasifikasi bernomor, tetapi sebelum klasifikasi diberikan, keluaran yang AKTUAL adalah probabilitas numerik dalam rentang 0 sampai 1. <br> <br>\n",
    "\n",
    "Types of Logistic Regression\n",
    "1.\tBinary Logistic Regression: var dependen hanya memiliki 2 kemungkinan hasil / kelas.\n",
    "Contoh: male or female\n",
    "2.\tMultinomial Logistic Regression: var dependen hanya memiliki 2 kemungkinan hasil / kelas 3 atau lebih tanpa urutan.\n",
    "Contoh: predicting food quality (good, great, and bad)\n",
    "3.\tOrdinal Logistic Regression: var dependen hanya memiliki 3 atau lebih kemungkinan hasil / kelas dengan pengurutan.\n",
    "Contoh: star rating from 1 to 5\n",
    "\n",
    "### Math Prerequisites \n",
    "Sigmoid Function, yaitu fungsi matmatika yg memliki karakteristik kurva berbentuk \"S\". Kita akan sering menemukan natural logarithm yang dilambangkan dgn ln bukan log. Dalam python math.log(x) dan numpy.log(x) mewakil natural logarithm dari x.\n",
    "\n",
    "### Methodology\n",
    "Logistic regression adalah linear classifier, jadi menggunakan fungsi linear logit. Logistic regression menentukan bobot prediksi terbaik b0, b1, ..., br sedemikian rupa sehingga fungsi p(x) sedekat mungkin dengan actual responses yi, i=1, ..., n dimana n adalah jumlah observasi. Proses ini disebut model training atau fitting. <br>\n",
    "\n",
    "Untuk mendapatkan bobot terbaik biasanya kita memaksimalkan Log-Likelihood Function (LLF) utk semua observasi i = 1, ..., n. Metode ini disebut maximum likelihood estimation.\n",
    "\n",
    "## Classification Performance\n",
    "Binary classification memiliki 4 kemungkinan jenis hasil:\n",
    "1.\tTrue Negatives: corectly predicted negatives (zeros)\n",
    "2.\tTrue Positives: corectly predicted positives (ones)\n",
    "3.\tFalse Negatives: incorectly predicted negatives (zeros)\n",
    "4.\tFalse Positives: incorectly predicted positives (ones)\n",
    "\n",
    "Indikator lain dari binary classifiers adalah sebagai berikut:\n",
    "- The positive predicted value: ratio of the number of true positives to the sum of the number of true and false positives\n",
    "- The negative predicted value: ratio of the number of true negatives to the sum of the numbers of true and false negatives\n",
    "- The sensitivity (recall / true positif rate): ratio of the number of true positives to the number of actual positives\n",
    "- The specificity (true negatif rate): ratio of the number of true negatives to the number of actual negatives\n",
    "\n",
    "### Single-Variate Logistic Regression\n",
    "yaitu kasus logistic regression yang paling jelas dimana hanya ada satu var independen (atau fitur), yaitu x = x.\n",
    "\n",
    "### Multi-Variate Logistic Regression\n",
    "Multi-Variate Logistic Regression memiliki lebih dari satu variabel masukan.\n"
   ]
  },
  {
   "cell_type": "markdown",
   "metadata": {},
   "source": [
    "### 5 langkah implementasi Machine Learning\n",
    "\n",
    "- Import library yang dibutuhkan\n",
    "- Siapkan datanya (70% - 80%) effort\n",
    "    - Data Cleansing\n",
    "    - EDA\n",
    "    - Feature Engineering / Extraction\n",
    "- Siapkan algoritma machine learning\n",
    "- Training machine learning\n",
    "- Gunakan algoritma machine learning\n",
    "    - Evaluasi\n",
    "    - Prediksi"
   ]
  },
  {
   "cell_type": "code",
   "execution_count": 30,
   "metadata": {},
   "outputs": [],
   "source": [
    "# step 1 : import library\n",
    "from sklearn.datasets import load_iris\n",
    "from sklearn.neighbors import KNeighborsClassifier\n",
    "from sklearn.model_selection import train_test_split\n",
    "from sklearn.metrics import accuracy_score"
   ]
  },
  {
   "cell_type": "code",
   "execution_count": 10,
   "metadata": {},
   "outputs": [
    {
     "name": "stdout",
     "output_type": "stream",
     "text": [
      "Ukuran matriks x : (150, 4)\n",
      "Ukuran label x : (150,)\n"
     ]
    }
   ],
   "source": [
    "# step 2 : siapkan dataset -> menjadikan data sebagai matriks\n",
    "iris = load_iris()\n",
    "X = iris.data\n",
    "y = iris.target\n",
    "\n",
    "print(f\"Ukuran matriks x : {X.shape}\")\n",
    "print(f\"Ukuran label x : {y.shape}\")"
   ]
  },
  {
   "cell_type": "code",
   "execution_count": 11,
   "metadata": {},
   "outputs": [
    {
     "data": {
      "text/plain": [
       "array([[5.1, 3.5, 1.4, 0.2],\n",
       "       [4.9, 3. , 1.4, 0.2],\n",
       "       [4.7, 3.2, 1.3, 0.2],\n",
       "       [4.6, 3.1, 1.5, 0.2],\n",
       "       [5. , 3.6, 1.4, 0.2]])"
      ]
     },
     "execution_count": 11,
     "metadata": {},
     "output_type": "execute_result"
    }
   ],
   "source": [
    "X[:5]"
   ]
  },
  {
   "cell_type": "code",
   "execution_count": 16,
   "metadata": {},
   "outputs": [],
   "source": [
    "# SPLIT DATA\n",
    "\n",
    "X_train, X_test, y_train, y_test = train_test_split(X, y, test_size=0.2, random_state=46)"
   ]
  },
  {
   "cell_type": "code",
   "execution_count": 12,
   "metadata": {},
   "outputs": [
    {
     "data": {
      "text/plain": [
       "['sepal length (cm)',\n",
       " 'sepal width (cm)',\n",
       " 'petal length (cm)',\n",
       " 'petal width (cm)']"
      ]
     },
     "execution_count": 12,
     "metadata": {},
     "output_type": "execute_result"
    }
   ],
   "source": [
    "# hanya keterangan\n",
    "iris.feature_names"
   ]
  },
  {
   "cell_type": "code",
   "execution_count": 13,
   "metadata": {},
   "outputs": [],
   "source": [
    "# step 3 : Siapkan algoritma ML\n",
    "\n",
    "model = KNeighborsClassifier()"
   ]
  },
  {
   "cell_type": "code",
   "execution_count": 17,
   "metadata": {},
   "outputs": [
    {
     "data": {
      "text/plain": [
       "KNeighborsClassifier()"
      ]
     },
     "execution_count": 17,
     "metadata": {},
     "output_type": "execute_result"
    }
   ],
   "source": [
    "# step 4 : training model\n",
    "model.fit(X_train, y_train)"
   ]
  },
  {
   "cell_type": "code",
   "execution_count": 26,
   "metadata": {},
   "outputs": [
    {
     "data": {
      "text/plain": [
       "array([0.4359949 , 0.02592623, 0.54966248, 0.43532239, 0.4203678 ,\n",
       "       0.33033482, 0.20464863, 0.61927097, 0.29965467, 0.26682728])"
      ]
     },
     "execution_count": 26,
     "metadata": {},
     "output_type": "execute_result"
    }
   ],
   "source": [
    "# hanya contoh penggunaan seed\n",
    "import numpy as np\n",
    "\n",
    "np.random.seed(2)\n",
    "np.random.random(10)"
   ]
  },
  {
   "cell_type": "code",
   "execution_count": 29,
   "metadata": {},
   "outputs": [
    {
     "data": {
      "text/plain": [
       "array([2])"
      ]
     },
     "execution_count": 29,
     "metadata": {},
     "output_type": "execute_result"
    }
   ],
   "source": [
    "# step 5 : gunakan model\n",
    "data_baru = [[2.5, 1.1, 5.4, 3.3]]\n",
    "model.predict(data_baru)"
   ]
  },
  {
   "cell_type": "code",
   "execution_count": 31,
   "metadata": {},
   "outputs": [
    {
     "data": {
      "text/plain": [
       "0.9333333333333333"
      ]
     },
     "execution_count": 31,
     "metadata": {},
     "output_type": "execute_result"
    }
   ],
   "source": [
    "# test / uji\n",
    "y_pred = model.predict(X_test)\n",
    "\n",
    "# evaluasi dengan akurasi\n",
    "accuracy_score(y_test, y_pred)"
   ]
  },
  {
   "cell_type": "code",
   "execution_count": null,
   "metadata": {},
   "outputs": [],
   "source": []
  }
 ],
 "metadata": {
  "kernelspec": {
   "display_name": "Python 3.9.12 ('base')",
   "language": "python",
   "name": "python3"
  },
  "language_info": {
   "codemirror_mode": {
    "name": "ipython",
    "version": 3
   },
   "file_extension": ".py",
   "mimetype": "text/x-python",
   "name": "python",
   "nbconvert_exporter": "python",
   "pygments_lexer": "ipython3",
   "version": "3.9.12"
  },
  "orig_nbformat": 4,
  "vscode": {
   "interpreter": {
    "hash": "f08154012ddadd8e950e6e9e035c7a7b32c136e7647e9b7c77e02eb723a8bedb"
   }
  }
 },
 "nbformat": 4,
 "nbformat_minor": 2
}
